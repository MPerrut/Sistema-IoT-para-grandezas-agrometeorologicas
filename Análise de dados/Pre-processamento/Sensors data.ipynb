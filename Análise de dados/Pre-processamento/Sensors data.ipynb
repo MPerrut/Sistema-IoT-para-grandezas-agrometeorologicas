{
 "cells": [
  {
   "cell_type": "code",
   "execution_count": 1,
   "id": "c54ba2e4",
   "metadata": {},
   "outputs": [],
   "source": [
    "import requests\n",
    "import json\n",
    "import firebase_admin\n",
    "from firebase_admin import credentials\n",
    "from firebase_admin import auth\n",
    "from firebase_admin import db\n",
    "import numpy as np\n",
    "import pandas as pd\n",
    "import datetime as dt\n",
    "import matplotlib.pyplot as plt\n",
    "import io\n",
    "import PIL.Image as Image"
   ]
  },
  {
   "cell_type": "code",
   "execution_count": 2,
   "id": "c220fc2b",
   "metadata": {},
   "outputs": [],
   "source": [
    "#Objeto de credenciais do firebase\n",
    "cred_obj = credentials.Certificate(\"C://arquivo com as credenciais.json\")\n",
    "firebase_admin.initialize_app(cred_obj, {\n",
    "\t'databaseURL': 'URL do banco de dados'\n",
    "})\n",
    "\n",
    "#Código para pegar o usuário do firebase\n",
    "email = \"email de usuário do firebase\"\n",
    "user = auth.get_user_by_email(email)\n",
    "\n",
    "#Consulta dos dados no banco de dados\n",
    "ref = db.reference('/UsersData/'+ str(user.uid)+'/SHT/')\n",
    "data = ref.order_by_key().get()\n"
   ]
  },
  {
   "cell_type": "code",
   "execution_count": 3,
   "id": "043e28c9",
   "metadata": {},
   "outputs": [],
   "source": [
    "#Carregando dados históricos do arquivo JSON\n",
    "with open('dado_hist.json') as f:\n",
    "    json_data = f.read()\n",
    "    \n",
    "data_hist = json.loads(json_data)\n"
   ]
  },
  {
   "cell_type": "code",
   "execution_count": 4,
   "id": "20d32968",
   "metadata": {},
   "outputs": [],
   "source": [
    "#Conversão dos dados históricos para o formato do banco de dados\n",
    "data = []\n",
    "\n",
    "for data_point in data_hist:\n",
    "    temperatura = data_point['main']['temp']\n",
    "    umidade = data_point['main']['umidade']\n",
    "    timestamp = data_point['dt']\n",
    "    \n",
    "    data.append({\"timestamp\": timestamp, \"temperatura\": temperatura, \"umidade\": umidade})\n",
    "    "
   ]
  },
  {
   "cell_type": "code",
   "execution_count": 5,
   "id": "a3628b94",
   "metadata": {},
   "outputs": [],
   "source": [
    "# Loop para interpolar a cada 5 minutos e suavizar com média móvel\n",
    "dado_interpolado = []\n",
    "\n",
    "for i in range(len(data)-1):\n",
    "    timestamp_inicial = data[i]['timestamp']\n",
    "    timestamp_final = data[i+1]['timestamp']\n",
    "    temperatura_inicial = data[i]['temperatura']\n",
    "    temperatura_final = data[i+1]['temperatura']\n",
    "    umidade_inicial = data[i]['umidade']\n",
    "    umidade_final = data[i+1]['umidade']\n",
    "\n",
    "    # Interpolação linear\n",
    "    for j in range(1, 12):\n",
    "        timestamp = timestamp_inicial + j*300\n",
    "        temperatura = np.interp(timestamp, [timestamp_inicial, timestamp_final], [temperatura_inicial, temperatura_final])\n",
    "        umidade = np.interp(timestamp, [timestamp_inicial, timestamp_final], [umidade_inicial, umidade_final])\n",
    "        dado_interpolado.append({\"timestamp\": timestamp, \"temperatura\": temperatura, \"umidade\": umidade})\n",
    "    \n",
    "\n",
    "    #Média móvel\n",
    "    temperatura_suavizada = [dado_interpolado[i+j]['temperatura'] for j in range(1, 11)]\n",
    "    umidade_suavizada = [dado_interpolado[i+j]['umidade'] for j in range(1, 11)]\n",
    "    temperatura_media = np.mean(temperatura_suavizada)\n",
    "    umidade_media = np.mean(umidade_suavizada)\n",
    "\n",
    "    # Distribuição normal\n",
    "    temperatura_std = np.std(temperatura_suavizada)\n",
    "    umidade_std = np.std(umidade_suavizada)\n",
    "    for j in range(11):\n",
    "        temperatura = np.random.normal(temperatura_media, temperatura_std)\n",
    "        umidade = np.random.normal(umidade_media, umidade_std)\n",
    "        dado_interpolado[i+j]['temperatura'] = round(temperatura, 2)\n",
    "        dado_interpolado[i+j]['umidade'] = round(umidade, 2)\n",
    "\n",
    "# Adiciona os dados interpolados e com distribuição normal ao dicionário 'data'\n",
    "for item in dado_interpolado:\n",
    "    data.append(item)\n",
    "\n",
    "\n",
    "data = sorted(data, key=lambda k: k['timestamp'])\n"
   ]
  },
  {
   "cell_type": "code",
   "execution_count": 6,
   "id": "eefbf3a5",
   "metadata": {},
   "outputs": [],
   "source": [
    "#Envia os dados para o banco de dados\n",
    "for d in data:\n",
    "    ref.child(str(d['timestamp'])).set({\n",
    "        \"TemperaturaC\": str(d['temperatura']),\n",
    "        \"timestamp\": str(d['timestamp']),\n",
    "        \"umidade\": str(d['umidade'])\n",
    "    })"
   ]
  }
 ],
 "metadata": {
  "kernelspec": {
   "display_name": "Python 3 (ipykernel)",
   "language": "python",
   "name": "python3"
  },
  "language_info": {
   "codemirror_mode": {
    "name": "ipython",
    "version": 3
   },
   "file_extension": ".py",
   "mimetype": "text/x-python",
   "name": "python",
   "nbconvert_exporter": "python",
   "pygments_lexer": "ipython3",
   "version": "3.9.13"
  }
 },
 "nbformat": 4,
 "nbformat_minor": 5
}
